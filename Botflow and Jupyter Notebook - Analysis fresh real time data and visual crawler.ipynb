{
 "cells": [
  {
   "cell_type": "markdown",
   "metadata": {},
   "source": [
    "**Botflow**  is programming framework  built for createing fast data pipeline. \n",
    "This tutorial is a sample for analyse  Python book price distrubution with amazon book search result . And the tutorial dose not require extra tools and make you leave this page.\n",
    "\n",
    "more information can be found in project home page:\n",
    "\n",
    "    https://github.com/kkyon/botflow\n",
    "\n",
    "\n",
    "The package you need to install \n",
    "\n",
    "```pip3 instll -U botflow```\n",
    "\n",
    "update tonado to 4.5.3 because  jupyter asyncio support issue.\n",
    "\n",
    "\n",
    "```pip3 install tornado==4.5.3```\n",
    "\n",
    "and you should have baic knowlege with html and beautiful soup.\n"
   ]
  },
  {
   "cell_type": "markdown",
   "metadata": {},
   "source": [
    "## All Steps  \n",
    "1. Donwloads the serach result page (html) and get the book item html\n",
    "2. parse the price ,book title,images src\n",
    "1. filter out spam item\n",
    "3. create pandas dataframe from the prices .And draw the hist \n"
   ]
  },
  {
   "cell_type": "markdown",
   "metadata": {},
   "source": [
    "### Step 1. Create download pipe.\n",
    "\n",
    "Make amazon book search with keyword *Python* in your chrome. You can get the search result page url :\n",
    "\n",
    "```https://www.amazon.com/s/ref=sr_pg_2?fst=p90x%3A1&rh=n%3A283155%2Ck%3Apython&page=2&d=1&keywords=python&ie=UTF8&qid=1536905092```\n",
    "\n",
    "We can fingure the page no and keyword word in the url . In this tutorial we only replace page no  with variable . You can try change the search keywords later.\n",
    "```python \n",
    "\n",
    "lambda p:f\"https://www.amazon.com/s/ref=sr_pg_{p}?fst=p90x%3A1&page={p}&rh=n%3A283155%2Ck%3Apython&keywords=python&ie=UTF8&qid=1536500367\",\n",
    "\n",
    "```\n",
    "\n",
    "And with inspect the html ,we can find book item is under *li* tage . get all tag with soup api .*find_all*. \n",
    "It also return many unnecceary items .Don't worry about this .will clean it later.\n",
    "\n",
    "Let's get start with only one page. We can easy fetch more page just change run param."
   ]
  },
  {
   "cell_type": "code",
   "execution_count": 1,
   "metadata": {},
   "outputs": [
    {
     "name": "stderr",
     "output_type": "stream",
     "text": [
      "2018-09-14 14:59:08,459 root         INFO:pipe_4470375312 ready to exit\n"
     ]
    },
    {
     "name": "stdout",
     "output_type": "stream",
     "text": [
      "175\n"
     ]
    }
   ],
   "source": [
    "from botflow import *\n",
    "p_download=Pipe(\n",
    "    \n",
    "    lambda p:f\"https://www.amazon.com/s/ref=sr_pg_{p}?fst=p90x%3A1&page={p}&rh=n%3A283155%2Ck%3Apython&keywords=python&ie=UTF8&qid=1536500367\",\n",
    "    HttpLoader(), #download the page\n",
    "\n",
    "    lambda r:r.soup.find_all(\"li\"),\n",
    "    Flat()  #we don't need keep the hierarchy of page no. \n",
    ")\n",
    "\n",
    "lis=p_download.run(1) #get first page\n",
    "#lis=p.run(range(1,10)) get top 10 pages items\n",
    "print(len(lis))\n",
    "\n"
   ]
  },
  {
   "cell_type": "markdown",
   "metadata": {},
   "source": [
    "We got many items now. let's  pick one and see inside. It is actually a Html Tag . html code seem messy .How can first price infrom from it?"
   ]
  },
  {
   "cell_type": "code",
   "execution_count": 2,
   "metadata": {},
   "outputs": [
    {
     "data": {
      "text/plain": [
       "<li class=\"s-result-item celwidget AdHolder\" data-asin=\"1788295269\" id=\"result_0\"><div class=\"s-item-container\"><div class=\"a-fixed-left-grid\"><div class=\"a-fixed-left-grid-inner\" style=\"padding-left:218px\"><div class=\"a-fixed-left-grid-col a-col-left\" style=\"width:218px;margin-left:-218px;float:left;\"><div class=\"a-row\"><div aria-hidden=\"true\" class=\"a-column a-span12 a-text-center\"><a class=\"a-link-normal a-text-normal\" href=\"/gp/slredirect/picassoRedirect.html/ref=pa_sp_atf_stripbooks_sr_pg1_1?ie=UTF8&amp;adId=A04794103EZM52VSV07ZR&amp;url=https%3A%2F%2Fwww.amazon.com%2FMatplotlib-2-x-Example-Multi-dimensional-charts%2Fdp%2F1788295269%2Fref%3Dsr_1_1_sspa%2F136-9982183-6544141%3Fs%3Dbooks%26ie%3DUTF8%26qid%3D1536908344%26sr%3D1-1-spons%26keywords%3Dpython%26psc%3D1&amp;qualifier=1536908344&amp;id=88207326666658&amp;widgetName=sp_atf\"><img alt=\"Matplotlib 2.x By Example: Multi-dimensional charts, graphs, and plots in Python\" class=\"s-access-image cfMarker\" data-search-image-load=\"\" height=\"218\" src=\"https://images-na.ssl-images-amazon.com/images/I/410gNSSY-+L._AC_US218_.jpg\" srcset=\"https://images-na.ssl-images-amazon.com/images/I/410gNSSY-+L._AC_US218_.jpg 1x, https://images-na.ssl-images-amazon.com/images/I/410gNSSY-+L._AC_US327_FMwebp_QL65_.jpg 1.5x, https://images-na.ssl-images-amazon.com/images/I/410gNSSY-+L._AC_US436_FMwebp_QL65_.jpg 2x, https://images-na.ssl-images-amazon.com/images/I/410gNSSY-+L._AC_US500_FMwebp_QL65_.jpg 2.2935x\" width=\"218\"/></a><div class=\"a-section a-spacing-none a-text-center\"></div></div></div></div><div class=\"a-fixed-left-grid-col a-col-right\" style=\"padding-left:2%;float:left;\"><h5 class=\"a-spacing-none a-color-tertiary s-sponsored-list-header s-sponsored-header sp-pixel-data a-text-normal\" data-alt-pixel-url=\"/gp/sponsored-products/logging/log-action.html?qualifier=1536908344&amp;id=88207326666658&amp;widgetName=sp_atf&amp;adId=200004567537671&amp;eventType=2&amp;adIndex=0\" data-page-layout=\"List\" data-page-num-columns=\"1\" data-page-number=\"1\" data-pixel-url=\"https://fls-na.amazon.com/1/amazon-clicks/1/OP/?requestId=CQ95D0VAKKAKEPRYMC9R&amp;childRequestId=CQ95D0VAKKAKEPRYMC9R&amp;widgetName=sp_atf&amp;searchResultNumber=1&amp;impressionRankOnAsin=1&amp;qualifier=1536908344&amp;id=88207326666658\" data-view-pixel-url=\"/gp/sponsored-products/logging/log-action.html?qualifier=1536908344&amp;id=88207326666658&amp;widgetName=sp_atf&amp;adId=200004567537671&amp;adIndex=0\" data-widget=\"sp_atf\">Sponsored<span class=\"a-declarative\" data-a-popover='{\"name\":\"sponsored-header-1788295269\",\"position\":\"triggerRight\"}' data-action=\"a-popover\"><span class=\"s-sponsored-info-icon a-inline-block s-sponsored-info-icon-base64\"></span>\n",
       "</span><script type=\"text/javascript\">\n",
       "         P.when('A','SponsoredProductsRendering').execute('force-impression-logging-clicktime', function sponsoredRendering (A, SL) {\n",
       "           var $ = A.$;\n",
       "           var data_asin = 'asin';\n",
       "           var data_view_pixel_url = 'view-pixel-url';\n",
       "           var selector_header = '[data-view-pixel-url=\"'+ \"/gp/sponsored-products/logging/log-action.html?qualifier=1536908344&id=88207326666658&widgetName=sp_atf&adId=200004567537671&adIndex=0\"+'\"]';\n",
       "           var selectors_asinElement = '[data-asin]';\n",
       "           var picassoHrefSelector = '[href*=\\'picassoRedirect.html\\']';\n",
       "\n",
       "           var header = $(selector_header);\n",
       "           var asinElement = header.closest(selectors_asinElement);\n",
       "\n",
       "           if (!asinElement || asinElement.data(data_asin) === undefined) {\n",
       "               // Fallback logic if closest function is not supported\n",
       "               A.$(selectors_asinElement).each(function(){\n",
       "                var asin = $(this);\n",
       "                var header = asin.find(selector_header);\n",
       "                \n",
       "                if (header.data(data_view_pixel_url) !== undefined) {\n",
       "                   asinElement = asin;\n",
       "                }\n",
       "               });\n",
       "           }\n",
       "\n",
       "           var $spAsin = asinElement.first();\n",
       "\n",
       "           if (asinElement.data(data_asin) !== undefined) {\n",
       "               SL.logMessage(\"Checking impression pixel for asin : \" + asinElement.data(data_asin) + \", with pixel url : \" + \"/gp/sponsored-products/logging/log-action.html?qualifier=1536908344&id=88207326666658&widgetName=sp_atf&adId=200004567537671&eventType=2&adIndex=0\");\n",
       "               // Find all the jQuery objects which contains \"picassoredirct.html\" in the href and bind them with onclick.\n",
       "               $spAsin.find(picassoHrefSelector)\n",
       "                 .click(function() {\n",
       "                   SL.forceFireRenderPixel(\"/gp/sponsored-products/logging/log-action.html?qualifier=1536908344&id=88207326666658&widgetName=sp_atf&adId=200004567537671&eventType=2&adIndex=0\");\n",
       "                 })\n",
       "                 .mousedown(function(e) {\n",
       "                   switch (e.which) {\n",
       "                     // 2 is middle click, 1 is left click which is covered in the above click\n",
       "                     case 2:\n",
       "                       SL.forceFireRenderPixel(\"/gp/sponsored-products/logging/log-action.html?qualifier=1536908344&id=88207326666658&widgetName=sp_atf&adId=200004567537671&eventType=2&adIndex=0\");\n",
       "                       break;\n",
       "                     // 3 is right click which we do not handle the case here,\n",
       "                     default:\n",
       "                       break;\n",
       "                   }\n",
       "               });\n",
       "            }\n",
       "         });\n",
       "      </script>\n",
       "<script type=\"text/javascript\">\n",
       "       P.when('A','SponsoredProductsViewability').execute('sponsored-products-track-views-t6', function sponsoredViewability (A, SV) {\n",
       "         var $ = A.$;\n",
       "         var data_asin = 'asin';\n",
       "         var data_view_pixel_url = 'view-pixel-url';\n",
       "         var selector_header = '[data-view-pixel-url=\"'+ \"/gp/sponsored-products/logging/log-action.html?qualifier=1536908344&id=88207326666658&widgetName=sp_atf&adId=200004567537671&adIndex=0\"+'\"]';\n",
       "         var selectors_asinElement = '[data-asin]';\n",
       "\n",
       "         var header = $(selector_header);\n",
       "         var asinElement = header.closest(selectors_asinElement);\n",
       "\n",
       "         if (!asinElement || asinElement.data(data_asin) === undefined) {\n",
       "             // Fallback logic if closest function is not supported\n",
       "             A.$(selectors_asinElement).each(function(){\n",
       "              var asin = $(this);\n",
       "              var header = asin.find(selector_header);\n",
       "              \n",
       "              if (header.data(data_view_pixel_url) !== undefined) {\n",
       "                 asinElement = asin;\n",
       "              }\n",
       "             });\n",
       "         } \n",
       "\n",
       "         if (asinElement.data(data_asin) !== undefined) {\n",
       "             SV.logMessage(\"Registering asin: \" + asinElement.data(data_asin));\n",
       "             var pageNumber = (\"1\" === \"1\") ? \"P1\":\"P2+\";\n",
       "             var subPlacement = \"sp_atf\" + '-' + pageNumber + \n",
       "                             '-' +\"List\" + '-' +\"1\";\n",
       "\n",
       "             SV.registerViewTrackingElement(asinElement, \"search-pc\",\n",
       "                                        \"/gp/sponsored-products/logging/log-action.html?qualifier=1536908344&id=88207326666658&widgetName=sp_atf&adId=200004567537671&adIndex=0\", subPlacement);\n",
       "         }\n",
       "       });\n",
       "     </script>\n",
       "<noscript>\n",
       "<img alt=\"\" src=\"https://fls-na.amazon.com/1/amazon-clicks/1/OP/?requestId=CQ95D0VAKKAKEPRYMC9R&amp;childRequestId=CQ95D0VAKKAKEPRYMC9R&amp;widgetName=sp_atf&amp;searchResultNumber=1&amp;impressionRankOnAsin=1&amp;qualifier=1536908344&amp;id=88207326666658\"/></noscript>\n",
       "<noscript>\n",
       "<img alt=\"\" src=\"/gp/sponsored-products/logging/log-action.html?qualifier=1536908344&amp;id=88207326666658&amp;widgetName=sp_atf&amp;adId=200004567537671&amp;eventType=2&amp;adIndex=0\"/></noscript>\n",
       "<noscript>\n",
       "<img alt=\"\" src=\"/gp/sponsored-products/logging/log-action.html?qualifier=1536908344&amp;id=88207326666658&amp;widgetName=sp_atf&amp;adId=200004567537671&amp;adIndex=0&amp;eventType=101\"/></noscript>\n",
       "</h5><div class=\"a-popover-preload\" id=\"a-popover-sponsored-header-1788295269\"><span>These are ads for products you'll find on Amazon.com. <br/>Clicking an ad will take you to the product's page.</span><span class=\"a-letter-space\"></span><a class=\"a-link-normal\" href=\"https://advertising.amazon.com/products-self-serve?ref_=ext_amzn_wtsp\" rel=\"noopener\" target=\"_blank\">Learn more about Sponsored Products.</a><div class=\"a-row a-spacing-top-small s-sponsored-feedback\">See a problem with these advertisements?<span class=\"a-letter-space\"></span><span class=\"a-declarative\" data-a-modal=\"{&quot;name&quot;:&quot;sponsored-products-feedback-modal-sp_atf&quot;,&quot;width&quot;:&quot;350&quot;,&quot;header&quot;:&quot;Share your feedback&quot;,&quot;footer&quot;:&quot;&lt;div id='sponsored-products-feedback-footer'&gt;&lt;\\/div&gt;&quot;,&quot;url&quot;:&quot;/gp/sponsored-products/lazyLoad/handler/sp-feedback-handler.html?pl=D48z4zAieFWWQuIpntKE6KqCE38Hx7YE92S2N44PABQbYU5RtcoDrrR0teHx6ew0r1hQHIcQXG6j%0AIMdW2WcGUivcBNrWaEKvU6mlVCdRhS%2Bo629Dcqw4FYSrxBFyGYmvm%2FetTUMfLdjxViEuzXrOzl2X%0App%2F5mW066mI0RT%2Fp%2FJ00OJTt1DbI4PSOJbwJD8KzLwiIL624Q7KziREa1YPKmmTgWC4cPkydKERk%0AcW5e64o5AkT0aQHgkJD1rKVAYVd7ZQLZg7xMyUAe%2FiJqQPuQwfWqR6FKyY5wN5koBYpllXgYdn3g%0A39f6IM1SmmrWmtcv5yQmO3YZ3Xu0cZL%2BIOWMEGVKBSDOKPKPzjFM23KUGS50pfgLirdhMnV01GiS%0A6LbU8VBhoo4FC5ZM9dYSAJaPKYCxArvx73q2qHtsb9Gnv63XGHJnJOfIgr2r2CMo7wkQXphndzHT%0AF%2BZzWyA3BzgXubkjMzSrHNGgRLEaNJ1DCjO0nPumbJTICQ%3D%3D&quot;}\" data-action=\"a-modal\"><a class=\"a-link-normal\" href=\"#\">Leave ad feedback</a></span></div></div><div class=\"a-row a-spacing-small\"><div class=\"a-row a-spacing-none\"><a class=\"a-link-normal s-access-detail-page s-color-twister-title-link a-text-normal\" href=\"/gp/slredirect/picassoRedirect.html/ref=pa_sp_atf_stripbooks_sr_pg1_1?ie=UTF8&amp;adId=A04794103EZM52VSV07ZR&amp;url=https%3A%2F%2Fwww.amazon.com%2FMatplotlib-2-x-Example-Multi-dimensional-charts%2Fdp%2F1788295269%2Fref%3Dsr_1_1_sspa%2F136-9982183-6544141%3Fs%3Dbooks%26ie%3DUTF8%26qid%3D1536908344%26sr%3D1-1-spons%26keywords%3Dpython%26psc%3D1&amp;qualifier=1536908344&amp;id=88207326666658&amp;widgetName=sp_atf\" title=\"Matplotlib 2.x By Example: Multi-dimensional charts, graphs, and plots in Python\"><h2 class=\"a-size-medium s-inline s-access-title a-text-normal\" data-attribute=\"Matplotlib 2.x By Example: Multi-dimensional charts, graphs, and plots in Python\" data-max-rows=\"0\"><span class=\"a-offscreen\">[Sponsored]</span>Matplotlib 2.x By Example: Multi-dimensional charts, graphs, and plots in Python</h2></a><span class=\"a-letter-space\"></span><span class=\"a-letter-space\"></span><span class=\"a-size-small a-color-secondary\">Aug 28, 2017</span></div><div class=\"a-row a-spacing-none\"><span class=\"a-size-small a-color-secondary\">by </span><span class=\"a-size-small a-color-secondary\">Allen Yu and </span><span class=\"a-size-small a-color-secondary\">Claire Chung</span></div></div><div class=\"a-row a-spacing-none\"><span class=\"a-size-small\">Eligible for Shipping to China</span></div><div class=\"a-row\"><div class=\"a-column a-span7\"><div class=\"a-row a-spacing-none\"><a class=\"a-link-normal a-text-normal\" href=\"/gp/slredirect/picassoRedirect.html/ref=pa_sp_atf_stripbooks_sr_pg1_1?ie=UTF8&amp;adId=A04794103EZM52VSV07ZR&amp;url=https%3A%2F%2Fwww.amazon.com%2FMatplotlib-2-x-Example-Multi-dimensional-charts%2Fdp%2F1788295269%2Fref%3Dsr_1_1_twi_pap_1%2F136-9982183-6544141%3Fs%3Dbooks%26ie%3DUTF8%26qid%3D1536908344%26sr%3D1-1-spons%26keywords%3Dpython%26psc%3D1&amp;qualifier=1536908344&amp;id=88207326666658&amp;widgetName=sp_atf\" title=\"Paperback\"><h3 class=\"a-size-small s-inline a-text-normal\" data-attribute=\"Paperback\" data-max-rows=\"0\" data-truncate-by-character=\"false\">Paperback</h3></a></div><div class=\"a-row a-spacing-none\"><a class=\"a-link-normal a-text-normal\" href=\"/gp/slredirect/picassoRedirect.html/ref=pa_sp_atf_stripbooks_sr_pg1_1?ie=UTF8&amp;adId=A04794103EZM52VSV07ZR&amp;url=https%3A%2F%2Fwww.amazon.com%2FMatplotlib-2-x-Example-Multi-dimensional-charts%2Fdp%2F1788295269%2Fref%3Dsr_1_1_sspa%2F136-9982183-6544141%3Fs%3Dbooks%26ie%3DUTF8%26qid%3D1536908344%26sr%3D1-1-spons%26keywords%3Dpython%26psc%3D1&amp;qualifier=1536908344&amp;id=88207326666658&amp;widgetName=sp_atf\"><span class=\"a-offscreen\">$44.99</span><span aria-hidden=\"true\" class=\"a-color-base sx-zero-spacing\"><span class=\"sx-price sx-price-large\">\n",
       "<sup class=\"sx-price-currency\">$</sup>\n",
       "<span class=\"sx-price-whole\">44</span>\n",
       "<sup class=\"sx-price-fractional\">99</sup>\n",
       "</span>\n",
       "</span></a></div><div class=\"a-row a-spacing-none\"><span class=\"a-size-small a-color-secondary\">Available to ship in 1-2 days</span></div></div><div class=\"a-column a-span5 a-span-last\"></div></div></div></div></div></div></li>"
      ]
     },
     "execution_count": 2,
     "metadata": {},
     "output_type": "execute_result"
    }
   ],
   "source": [
    "lis[1]"
   ]
  },
  {
   "cell_type": "markdown",
   "metadata": {},
   "source": [
    "## Step2: Parse book item (price,title,image)\n",
    "\n",
    "Ok .Let's us  play magic with jupyter book ,print out the html visually .and will inspect the code whitout leave this page. "
   ]
  },
  {
   "cell_type": "code",
   "execution_count": 3,
   "metadata": {},
   "outputs": [
    {
     "data": {
      "text/html": [
       "<li class=\"s-result-item celwidget AdHolder\" data-asin=\"1788295269\" id=\"result_0\"><div class=\"s-item-container\"><div class=\"a-fixed-left-grid\"><div class=\"a-fixed-left-grid-inner\" style=\"padding-left:218px\"><div class=\"a-fixed-left-grid-col a-col-left\" style=\"width:218px;margin-left:-218px;float:left;\"><div class=\"a-row\"><div aria-hidden=\"true\" class=\"a-column a-span12 a-text-center\"><a class=\"a-link-normal a-text-normal\" href=\"/gp/slredirect/picassoRedirect.html/ref=pa_sp_atf_stripbooks_sr_pg1_1?ie=UTF8&amp;adId=A04794103EZM52VSV07ZR&amp;url=https%3A%2F%2Fwww.amazon.com%2FMatplotlib-2-x-Example-Multi-dimensional-charts%2Fdp%2F1788295269%2Fref%3Dsr_1_1_sspa%2F136-9982183-6544141%3Fs%3Dbooks%26ie%3DUTF8%26qid%3D1536908344%26sr%3D1-1-spons%26keywords%3Dpython%26psc%3D1&amp;qualifier=1536908344&amp;id=88207326666658&amp;widgetName=sp_atf\"><img alt=\"Matplotlib 2.x By Example: Multi-dimensional charts, graphs, and plots in Python\" class=\"s-access-image cfMarker\" data-search-image-load=\"\" height=\"218\" src=\"https://images-na.ssl-images-amazon.com/images/I/410gNSSY-+L._AC_US218_.jpg\" srcset=\"https://images-na.ssl-images-amazon.com/images/I/410gNSSY-+L._AC_US218_.jpg 1x, https://images-na.ssl-images-amazon.com/images/I/410gNSSY-+L._AC_US327_FMwebp_QL65_.jpg 1.5x, https://images-na.ssl-images-amazon.com/images/I/410gNSSY-+L._AC_US436_FMwebp_QL65_.jpg 2x, https://images-na.ssl-images-amazon.com/images/I/410gNSSY-+L._AC_US500_FMwebp_QL65_.jpg 2.2935x\" width=\"218\"/></a><div class=\"a-section a-spacing-none a-text-center\"></div></div></div></div><div class=\"a-fixed-left-grid-col a-col-right\" style=\"padding-left:2%;float:left;\"><h5 class=\"a-spacing-none a-color-tertiary s-sponsored-list-header s-sponsored-header sp-pixel-data a-text-normal\" data-alt-pixel-url=\"/gp/sponsored-products/logging/log-action.html?qualifier=1536908344&amp;id=88207326666658&amp;widgetName=sp_atf&amp;adId=200004567537671&amp;eventType=2&amp;adIndex=0\" data-page-layout=\"List\" data-page-num-columns=\"1\" data-page-number=\"1\" data-pixel-url=\"https://fls-na.amazon.com/1/amazon-clicks/1/OP/?requestId=CQ95D0VAKKAKEPRYMC9R&amp;childRequestId=CQ95D0VAKKAKEPRYMC9R&amp;widgetName=sp_atf&amp;searchResultNumber=1&amp;impressionRankOnAsin=1&amp;qualifier=1536908344&amp;id=88207326666658\" data-view-pixel-url=\"/gp/sponsored-products/logging/log-action.html?qualifier=1536908344&amp;id=88207326666658&amp;widgetName=sp_atf&amp;adId=200004567537671&amp;adIndex=0\" data-widget=\"sp_atf\">Sponsored<span class=\"a-declarative\" data-a-popover='{\"name\":\"sponsored-header-1788295269\",\"position\":\"triggerRight\"}' data-action=\"a-popover\"><span class=\"s-sponsored-info-icon a-inline-block s-sponsored-info-icon-base64\"></span>\n",
       "</span><script type=\"text/javascript\">\n",
       "         P.when('A','SponsoredProductsRendering').execute('force-impression-logging-clicktime', function sponsoredRendering (A, SL) {\n",
       "           var $ = A.$;\n",
       "           var data_asin = 'asin';\n",
       "           var data_view_pixel_url = 'view-pixel-url';\n",
       "           var selector_header = '[data-view-pixel-url=\"'+ \"/gp/sponsored-products/logging/log-action.html?qualifier=1536908344&id=88207326666658&widgetName=sp_atf&adId=200004567537671&adIndex=0\"+'\"]';\n",
       "           var selectors_asinElement = '[data-asin]';\n",
       "           var picassoHrefSelector = '[href*=\\'picassoRedirect.html\\']';\n",
       "\n",
       "           var header = $(selector_header);\n",
       "           var asinElement = header.closest(selectors_asinElement);\n",
       "\n",
       "           if (!asinElement || asinElement.data(data_asin) === undefined) {\n",
       "               // Fallback logic if closest function is not supported\n",
       "               A.$(selectors_asinElement).each(function(){\n",
       "                var asin = $(this);\n",
       "                var header = asin.find(selector_header);\n",
       "                \n",
       "                if (header.data(data_view_pixel_url) !== undefined) {\n",
       "                   asinElement = asin;\n",
       "                }\n",
       "               });\n",
       "           }\n",
       "\n",
       "           var $spAsin = asinElement.first();\n",
       "\n",
       "           if (asinElement.data(data_asin) !== undefined) {\n",
       "               SL.logMessage(\"Checking impression pixel for asin : \" + asinElement.data(data_asin) + \", with pixel url : \" + \"/gp/sponsored-products/logging/log-action.html?qualifier=1536908344&id=88207326666658&widgetName=sp_atf&adId=200004567537671&eventType=2&adIndex=0\");\n",
       "               // Find all the jQuery objects which contains \"picassoredirct.html\" in the href and bind them with onclick.\n",
       "               $spAsin.find(picassoHrefSelector)\n",
       "                 .click(function() {\n",
       "                   SL.forceFireRenderPixel(\"/gp/sponsored-products/logging/log-action.html?qualifier=1536908344&id=88207326666658&widgetName=sp_atf&adId=200004567537671&eventType=2&adIndex=0\");\n",
       "                 })\n",
       "                 .mousedown(function(e) {\n",
       "                   switch (e.which) {\n",
       "                     // 2 is middle click, 1 is left click which is covered in the above click\n",
       "                     case 2:\n",
       "                       SL.forceFireRenderPixel(\"/gp/sponsored-products/logging/log-action.html?qualifier=1536908344&id=88207326666658&widgetName=sp_atf&adId=200004567537671&eventType=2&adIndex=0\");\n",
       "                       break;\n",
       "                     // 3 is right click which we do not handle the case here,\n",
       "                     default:\n",
       "                       break;\n",
       "                   }\n",
       "               });\n",
       "            }\n",
       "         });\n",
       "      </script>\n",
       "<script type=\"text/javascript\">\n",
       "       P.when('A','SponsoredProductsViewability').execute('sponsored-products-track-views-t6', function sponsoredViewability (A, SV) {\n",
       "         var $ = A.$;\n",
       "         var data_asin = 'asin';\n",
       "         var data_view_pixel_url = 'view-pixel-url';\n",
       "         var selector_header = '[data-view-pixel-url=\"'+ \"/gp/sponsored-products/logging/log-action.html?qualifier=1536908344&id=88207326666658&widgetName=sp_atf&adId=200004567537671&adIndex=0\"+'\"]';\n",
       "         var selectors_asinElement = '[data-asin]';\n",
       "\n",
       "         var header = $(selector_header);\n",
       "         var asinElement = header.closest(selectors_asinElement);\n",
       "\n",
       "         if (!asinElement || asinElement.data(data_asin) === undefined) {\n",
       "             // Fallback logic if closest function is not supported\n",
       "             A.$(selectors_asinElement).each(function(){\n",
       "              var asin = $(this);\n",
       "              var header = asin.find(selector_header);\n",
       "              \n",
       "              if (header.data(data_view_pixel_url) !== undefined) {\n",
       "                 asinElement = asin;\n",
       "              }\n",
       "             });\n",
       "         } \n",
       "\n",
       "         if (asinElement.data(data_asin) !== undefined) {\n",
       "             SV.logMessage(\"Registering asin: \" + asinElement.data(data_asin));\n",
       "             var pageNumber = (\"1\" === \"1\") ? \"P1\":\"P2+\";\n",
       "             var subPlacement = \"sp_atf\" + '-' + pageNumber + \n",
       "                             '-' +\"List\" + '-' +\"1\";\n",
       "\n",
       "             SV.registerViewTrackingElement(asinElement, \"search-pc\",\n",
       "                                        \"/gp/sponsored-products/logging/log-action.html?qualifier=1536908344&id=88207326666658&widgetName=sp_atf&adId=200004567537671&adIndex=0\", subPlacement);\n",
       "         }\n",
       "       });\n",
       "     </script>\n",
       "<noscript>\n",
       "<img alt=\"\" src=\"https://fls-na.amazon.com/1/amazon-clicks/1/OP/?requestId=CQ95D0VAKKAKEPRYMC9R&amp;childRequestId=CQ95D0VAKKAKEPRYMC9R&amp;widgetName=sp_atf&amp;searchResultNumber=1&amp;impressionRankOnAsin=1&amp;qualifier=1536908344&amp;id=88207326666658\"/></noscript>\n",
       "<noscript>\n",
       "<img alt=\"\" src=\"/gp/sponsored-products/logging/log-action.html?qualifier=1536908344&amp;id=88207326666658&amp;widgetName=sp_atf&amp;adId=200004567537671&amp;eventType=2&amp;adIndex=0\"/></noscript>\n",
       "<noscript>\n",
       "<img alt=\"\" src=\"/gp/sponsored-products/logging/log-action.html?qualifier=1536908344&amp;id=88207326666658&amp;widgetName=sp_atf&amp;adId=200004567537671&amp;adIndex=0&amp;eventType=101\"/></noscript>\n",
       "</h5><div class=\"a-popover-preload\" id=\"a-popover-sponsored-header-1788295269\"><span>These are ads for products you'll find on Amazon.com. <br/>Clicking an ad will take you to the product's page.</span><span class=\"a-letter-space\"></span><a class=\"a-link-normal\" href=\"https://advertising.amazon.com/products-self-serve?ref_=ext_amzn_wtsp\" rel=\"noopener\" target=\"_blank\">Learn more about Sponsored Products.</a><div class=\"a-row a-spacing-top-small s-sponsored-feedback\">See a problem with these advertisements?<span class=\"a-letter-space\"></span><span class=\"a-declarative\" data-a-modal=\"{&quot;name&quot;:&quot;sponsored-products-feedback-modal-sp_atf&quot;,&quot;width&quot;:&quot;350&quot;,&quot;header&quot;:&quot;Share your feedback&quot;,&quot;footer&quot;:&quot;&lt;div id='sponsored-products-feedback-footer'&gt;&lt;\\/div&gt;&quot;,&quot;url&quot;:&quot;/gp/sponsored-products/lazyLoad/handler/sp-feedback-handler.html?pl=D48z4zAieFWWQuIpntKE6KqCE38Hx7YE92S2N44PABQbYU5RtcoDrrR0teHx6ew0r1hQHIcQXG6j%0AIMdW2WcGUivcBNrWaEKvU6mlVCdRhS%2Bo629Dcqw4FYSrxBFyGYmvm%2FetTUMfLdjxViEuzXrOzl2X%0App%2F5mW066mI0RT%2Fp%2FJ00OJTt1DbI4PSOJbwJD8KzLwiIL624Q7KziREa1YPKmmTgWC4cPkydKERk%0AcW5e64o5AkT0aQHgkJD1rKVAYVd7ZQLZg7xMyUAe%2FiJqQPuQwfWqR6FKyY5wN5koBYpllXgYdn3g%0A39f6IM1SmmrWmtcv5yQmO3YZ3Xu0cZL%2BIOWMEGVKBSDOKPKPzjFM23KUGS50pfgLirdhMnV01GiS%0A6LbU8VBhoo4FC5ZM9dYSAJaPKYCxArvx73q2qHtsb9Gnv63XGHJnJOfIgr2r2CMo7wkQXphndzHT%0AF%2BZzWyA3BzgXubkjMzSrHNGgRLEaNJ1DCjO0nPumbJTICQ%3D%3D&quot;}\" data-action=\"a-modal\"><a class=\"a-link-normal\" href=\"#\">Leave ad feedback</a></span></div></div><div class=\"a-row a-spacing-small\"><div class=\"a-row a-spacing-none\"><a class=\"a-link-normal s-access-detail-page s-color-twister-title-link a-text-normal\" href=\"/gp/slredirect/picassoRedirect.html/ref=pa_sp_atf_stripbooks_sr_pg1_1?ie=UTF8&amp;adId=A04794103EZM52VSV07ZR&amp;url=https%3A%2F%2Fwww.amazon.com%2FMatplotlib-2-x-Example-Multi-dimensional-charts%2Fdp%2F1788295269%2Fref%3Dsr_1_1_sspa%2F136-9982183-6544141%3Fs%3Dbooks%26ie%3DUTF8%26qid%3D1536908344%26sr%3D1-1-spons%26keywords%3Dpython%26psc%3D1&amp;qualifier=1536908344&amp;id=88207326666658&amp;widgetName=sp_atf\" title=\"Matplotlib 2.x By Example: Multi-dimensional charts, graphs, and plots in Python\"><h2 class=\"a-size-medium s-inline s-access-title a-text-normal\" data-attribute=\"Matplotlib 2.x By Example: Multi-dimensional charts, graphs, and plots in Python\" data-max-rows=\"0\"><span class=\"a-offscreen\">[Sponsored]</span>Matplotlib 2.x By Example: Multi-dimensional charts, graphs, and plots in Python</h2></a><span class=\"a-letter-space\"></span><span class=\"a-letter-space\"></span><span class=\"a-size-small a-color-secondary\">Aug 28, 2017</span></div><div class=\"a-row a-spacing-none\"><span class=\"a-size-small a-color-secondary\">by </span><span class=\"a-size-small a-color-secondary\">Allen Yu and </span><span class=\"a-size-small a-color-secondary\">Claire Chung</span></div></div><div class=\"a-row a-spacing-none\"><span class=\"a-size-small\">Eligible for Shipping to China</span></div><div class=\"a-row\"><div class=\"a-column a-span7\"><div class=\"a-row a-spacing-none\"><a class=\"a-link-normal a-text-normal\" href=\"/gp/slredirect/picassoRedirect.html/ref=pa_sp_atf_stripbooks_sr_pg1_1?ie=UTF8&amp;adId=A04794103EZM52VSV07ZR&amp;url=https%3A%2F%2Fwww.amazon.com%2FMatplotlib-2-x-Example-Multi-dimensional-charts%2Fdp%2F1788295269%2Fref%3Dsr_1_1_twi_pap_1%2F136-9982183-6544141%3Fs%3Dbooks%26ie%3DUTF8%26qid%3D1536908344%26sr%3D1-1-spons%26keywords%3Dpython%26psc%3D1&amp;qualifier=1536908344&amp;id=88207326666658&amp;widgetName=sp_atf\" title=\"Paperback\"><h3 class=\"a-size-small s-inline a-text-normal\" data-attribute=\"Paperback\" data-max-rows=\"0\" data-truncate-by-character=\"false\">Paperback</h3></a></div><div class=\"a-row a-spacing-none\"><a class=\"a-link-normal a-text-normal\" href=\"/gp/slredirect/picassoRedirect.html/ref=pa_sp_atf_stripbooks_sr_pg1_1?ie=UTF8&amp;adId=A04794103EZM52VSV07ZR&amp;url=https%3A%2F%2Fwww.amazon.com%2FMatplotlib-2-x-Example-Multi-dimensional-charts%2Fdp%2F1788295269%2Fref%3Dsr_1_1_sspa%2F136-9982183-6544141%3Fs%3Dbooks%26ie%3DUTF8%26qid%3D1536908344%26sr%3D1-1-spons%26keywords%3Dpython%26psc%3D1&amp;qualifier=1536908344&amp;id=88207326666658&amp;widgetName=sp_atf\"><span class=\"a-offscreen\">$44.99</span><span aria-hidden=\"true\" class=\"a-color-base sx-zero-spacing\"><span class=\"sx-price sx-price-large\">\n",
       "<sup class=\"sx-price-currency\">$</sup>\n",
       "<span class=\"sx-price-whole\">44</span>\n",
       "<sup class=\"sx-price-fractional\">99</sup>\n",
       "</span>\n",
       "</span></a></div><div class=\"a-row a-spacing-none\"><span class=\"a-size-small a-color-secondary\">Available to ship in 1-2 days</span></div></div><div class=\"a-column a-span5 a-span-last\"></div></div></div></div></div></div></li>"
      ],
      "text/plain": [
       "<IPython.core.display.HTML object>"
      ]
     },
     "metadata": {},
     "output_type": "display_data"
    }
   ],
   "source": [
    "from IPython.core.display import display, HTML\n",
    "display(HTML(str(lis[1])))"
   ]
  },
  {
   "cell_type": "markdown",
   "metadata": {},
   "source": [
    "With chrome inspect (right click menu > inspect ) the intresting element of the above Html block.\n",
    "    it is easy to find out the tage anem with developer windows right side:\n",
    " \n",
    "```\n",
    "    images : with tag imge ,inside A link\n",
    "    price : with css class span.a-offscreen and it is child of A link\n",
    "    title: with tag h2 ,inside  A link\n",
    "```\n",
    "\n",
    "We can build pipes for parsing price, image,title separatly . \n",
    "Remenber ,test with only item firstly .If you feel it is ok we can run it will full list.\n",
    "\n"
   ]
  },
  {
   "cell_type": "code",
   "execution_count": 4,
   "metadata": {},
   "outputs": [
    {
     "name": "stderr",
     "output_type": "stream",
     "text": [
      "2018-09-14 14:59:10,521 root         INFO:pipe_4514098648 ready to exit\n"
     ]
    },
    {
     "data": {
      "text/plain": [
       "'https://images-na.ssl-images-amazon.com/images/I/410gNSSY-+L._AC_US218_.jpg'"
      ]
     },
     "execution_count": 4,
     "metadata": {},
     "output_type": "execute_result"
    }
   ],
   "source": [
    "p_get_img_src=Pipe(lambda t:t.select(\"a img\"),lambda t:t['src'])\n",
    "p_get_img_src.run(lis[1])"
   ]
  },
  {
   "cell_type": "code",
   "execution_count": 5,
   "metadata": {},
   "outputs": [
    {
     "name": "stderr",
     "output_type": "stream",
     "text": [
      "2018-09-14 14:59:12,536 root         INFO:pipe_4489890280 ready to exit\n"
     ]
    },
    {
     "data": {
      "text/plain": [
       "'[Sponsored]Matplotlib 2.x By Example: Multi-dimensional charts, graphs, and plots in Python'"
      ]
     },
     "execution_count": 5,
     "metadata": {},
     "output_type": "execute_result"
    }
   ],
   "source": [
    "p_get_title=Pipe(lambda t:t.select(\"a h2\"),lambda t:t.get_text())\n",
    "p_get_title.run(lis[1])"
   ]
  },
  {
   "cell_type": "code",
   "execution_count": 6,
   "metadata": {},
   "outputs": [
    {
     "name": "stderr",
     "output_type": "stream",
     "text": [
      "2018-09-14 14:59:14,550 root         INFO:pipe_4514098200 ready to exit\n"
     ]
    },
    {
     "data": {
      "text/plain": [
       "'$44.99'"
      ]
     },
     "execution_count": 6,
     "metadata": {},
     "output_type": "execute_result"
    }
   ],
   "source": [
    "\n",
    "p_get_price=Pipe(lambda t:t.select(\"a > span.a-offscreen\"),lambda t:t.get_text())\n",
    "p_get_price.run(lis[1])"
   ]
  },
  {
   "cell_type": "code",
   "execution_count": 7,
   "metadata": {},
   "outputs": [
    {
     "name": "stderr",
     "output_type": "stream",
     "text": [
      "2018-09-14 14:59:16,563 root         INFO:pipe_4514098200 ready to exit\n"
     ]
    },
    {
     "data": {
      "text/plain": [
       "44.99"
      ]
     },
     "execution_count": 7,
     "metadata": {},
     "output_type": "execute_result"
    }
   ],
   "source": [
    "p_get_price.Map(lambda x:float(x.replace(\"$\",'')))\n",
    "p_get_price.run(lis[1])"
   ]
  },
  {
   "cell_type": "markdown",
   "metadata": {},
   "source": [
    " We created the imge,title,price parser pipes. now need to combine the results together. Zip operator is design for this purpose . it will combine muliti pipe resul to a list. \n",
    "\n",
    "\n"
   ]
  },
  {
   "cell_type": "code",
   "execution_count": 8,
   "metadata": {
    "scrolled": true
   },
   "outputs": [
    {
     "name": "stderr",
     "output_type": "stream",
     "text": [
      "2018-09-14 14:59:18,577 root         INFO:pipe_4514224448 ready to exit\n"
     ]
    },
    {
     "data": {
      "text/plain": [
       "[44.99,\n",
       " '[Sponsored]Matplotlib 2.x By Example: Multi-dimensional charts, graphs, and plots in Python',\n",
       " 'https://images-na.ssl-images-amazon.com/images/I/410gNSSY-+L._AC_US218_.jpg']"
      ]
     },
     "execution_count": 8,
     "metadata": {},
     "output_type": "execute_result"
    }
   ],
   "source": [
    "item_parse=Pipe(Zip(p_get_price,p_get_title,p_get_img_src))\n",
    "item_parse.run(lis[1])"
   ]
  },
  {
   "cell_type": "markdown",
   "metadata": {},
   "source": [
    "Now we run the p_item_parse with full list. Actully there is now differenc from runnning one item. \n"
   ]
  },
  {
   "cell_type": "code",
   "execution_count": 9,
   "metadata": {},
   "outputs": [
    {
     "name": "stderr",
     "output_type": "stream",
     "text": [
      "2018-09-14 14:59:20,596 root         INFO:pipe_4514222768 ready to exit\n"
     ]
    },
    {
     "data": {
      "text/plain": [
       "[[None, None, None],\n",
       " [44.99,\n",
       "  '[Sponsored]Matplotlib 2.x By Example: Multi-dimensional charts, graphs, and plots in Python',\n",
       "  'https://images-na.ssl-images-amazon.com/images/I/410gNSSY-+L._AC_US218_.jpg'],\n",
       " [None,\n",
       "  \"Amazon's Timothy C. Needham Page\",\n",
       "  'https://m.media-amazon.com/images/G/01/nav2/images/tc/authors/tc_author-pages._AA115_.png'],\n",
       " [34.99,\n",
       "  '[Sponsored]SciPy Recipes: A cookbook with over 110 proven recipes for performing mathematical and scientific computations',\n",
       "  'https://images-na.ssl-images-amazon.com/images/I/517etmpLAwL._AC_US218_.jpg'],\n",
       " [27.16,\n",
       "  'Python Crash Course: A Hands-On, Project-Based Introduction to Programming',\n",
       "  'https://images-na.ssl-images-amazon.com/images/I/51F48HFHq6L._AC_US218_.jpg'],\n",
       " [None, None, None],\n",
       " [31.24,\n",
       "  'Learning Python, 5th Edition',\n",
       "  'https://images-na.ssl-images-amazon.com/images/I/515iBchIIzL._AC_US218_.jpg'],\n",
       " [41.45,\n",
       "  'Python for Data Analysis: Data Wrangling with Pandas, NumPy, and IPython',\n",
       "  'https://images-na.ssl-images-amazon.com/images/I/51lod1FJujL._AC_US218_.jpg'],\n",
       " [None,\n",
       "  None,\n",
       "  ['https://images-na.ssl-images-amazon.com/images/I/51cRqX8DTgL._SCLZZZZZZZ__BG255,255,255_AA218_.jpg',\n",
       "   'https://images-na.ssl-images-amazon.com/images/I/51FD3C3kLiL._SCLZZZZZZZ__BG255,255,255_AA218_.jpg',\n",
       "   'https://images-na.ssl-images-amazon.com/images/I/41T830Bh4jL._SCLZZZZZZZ__BG255,255,255_AA218_.jpg',\n",
       "   'https://images-na.ssl-images-amazon.com/images/I/51hFtDvqgfL._SCLZZZZZZZ__BG255,255,255_AA218_.jpg',\n",
       "   'https://images-na.ssl-images-amazon.com/images/I/518KlDL92eL._SCLZZZZZZZ__BG255,255,255_AA218_.jpg',\n",
       "   'https://images-na.ssl-images-amazon.com/images/I/51dgaTOYqmL._SCLZZZZZZZ__BG255,255,255_AA218_.jpg',\n",
       "   'https://images-na.ssl-images-amazon.com/images/I/51qvS8cyLCL._SCLZZZZZZZ__BG255,255,255_AA218_.jpg',\n",
       "   'https://images-na.ssl-images-amazon.com/images/I/51ntMgZgihL._SCLZZZZZZZ__BG255,255,255_AA218_.jpg',\n",
       "   'https://images-na.ssl-images-amazon.com/images/I/517XL4pO6jL._SCLZZZZZZZ__BG255,255,255_AA218_.jpg',\n",
       "   'https://images-na.ssl-images-amazon.com/images/I/41bIwiXUNPL._SCLZZZZZZZ__BG255,255,255_AA218_.jpg',\n",
       "   'https://images-na.ssl-images-amazon.com/images/I/51tjBN6kkEL._SCLZZZZZZZ__BG255,255,255_AA218_.jpg',\n",
       "   'https://images-na.ssl-images-amazon.com/images/I/51LH36eCyaL._SCLZZZZZZZ__BG255,255,255_AA218_.jpg',\n",
       "   'https://images-na.ssl-images-amazon.com/images/I/51zDEWm5kcL._SCLZZZZZZZ__BG255,255,255_AA218_.jpg',\n",
       "   'https://images-na.ssl-images-amazon.com/images/I/51n9T4nLCeL._SCLZZZZZZZ__BG255,255,255_AA218_.jpg',\n",
       "   'https://images-na.ssl-images-amazon.com/images/I/51+YNv4mAfL._SCLZZZZZZZ__BG255,255,255_AA218_.jpg']],\n",
       " [None,\n",
       "  None,\n",
       "  'https://images-na.ssl-images-amazon.com/images/I/51cRqX8DTgL._SCLZZZZZZZ__BG255,255,255_AA218_.jpg'],\n",
       " [None,\n",
       "  None,\n",
       "  'https://images-na.ssl-images-amazon.com/images/I/51FD3C3kLiL._SCLZZZZZZZ__BG255,255,255_AA218_.jpg'],\n",
       " [None,\n",
       "  None,\n",
       "  'https://images-na.ssl-images-amazon.com/images/I/41T830Bh4jL._SCLZZZZZZZ__BG255,255,255_AA218_.jpg'],\n",
       " [None,\n",
       "  None,\n",
       "  'https://images-na.ssl-images-amazon.com/images/I/51hFtDvqgfL._SCLZZZZZZZ__BG255,255,255_AA218_.jpg'],\n",
       " [None,\n",
       "  None,\n",
       "  'https://images-na.ssl-images-amazon.com/images/I/518KlDL92eL._SCLZZZZZZZ__BG255,255,255_AA218_.jpg'],\n",
       " [None,\n",
       "  None,\n",
       "  'https://images-na.ssl-images-amazon.com/images/I/51dgaTOYqmL._SCLZZZZZZZ__BG255,255,255_AA218_.jpg'],\n",
       " [None,\n",
       "  None,\n",
       "  'https://images-na.ssl-images-amazon.com/images/I/51qvS8cyLCL._SCLZZZZZZZ__BG255,255,255_AA218_.jpg'],\n",
       " [None,\n",
       "  None,\n",
       "  'https://images-na.ssl-images-amazon.com/images/I/51ntMgZgihL._SCLZZZZZZZ__BG255,255,255_AA218_.jpg'],\n",
       " [None,\n",
       "  None,\n",
       "  'https://images-na.ssl-images-amazon.com/images/I/517XL4pO6jL._SCLZZZZZZZ__BG255,255,255_AA218_.jpg'],\n",
       " [None,\n",
       "  None,\n",
       "  'https://images-na.ssl-images-amazon.com/images/I/41bIwiXUNPL._SCLZZZZZZZ__BG255,255,255_AA218_.jpg'],\n",
       " [None,\n",
       "  None,\n",
       "  'https://images-na.ssl-images-amazon.com/images/I/51tjBN6kkEL._SCLZZZZZZZ__BG255,255,255_AA218_.jpg'],\n",
       " [None,\n",
       "  None,\n",
       "  'https://images-na.ssl-images-amazon.com/images/I/51LH36eCyaL._SCLZZZZZZZ__BG255,255,255_AA218_.jpg'],\n",
       " [None,\n",
       "  None,\n",
       "  'https://images-na.ssl-images-amazon.com/images/I/51zDEWm5kcL._SCLZZZZZZZ__BG255,255,255_AA218_.jpg'],\n",
       " [None,\n",
       "  None,\n",
       "  'https://images-na.ssl-images-amazon.com/images/I/51n9T4nLCeL._SCLZZZZZZZ__BG255,255,255_AA218_.jpg'],\n",
       " [None,\n",
       "  None,\n",
       "  'https://images-na.ssl-images-amazon.com/images/I/51+YNv4mAfL._SCLZZZZZZZ__BG255,255,255_AA218_.jpg'],\n",
       " [28.45,\n",
       "  'Automate the Boring Stuff with Python: Practical Programming for Total Beginners',\n",
       "  'https://images-na.ssl-images-amazon.com/images/I/517XL4pO6jL._AC_US218_.jpg'],\n",
       " [34.99,\n",
       "  '[Sponsored]Extending SaltStack',\n",
       "  'https://images-na.ssl-images-amazon.com/images/I/51XFUXE0K5L._AC_US218_.jpg'],\n",
       " [46.18,\n",
       "  '[Sponsored]Tkinter GUI Programming by Example: Learn to create modern GUIs using Tkinter by building real-world projects in Python',\n",
       "  'https://images-na.ssl-images-amazon.com/images/I/51ot3HNrhUL._AC_US218_.jpg'],\n",
       " [17.96,\n",
       "  'A Smarter Way to Learn Python: Learn it faster. Remember it longer.',\n",
       "  'https://images-na.ssl-images-amazon.com/images/I/41i1z4hAJAL._AC_US218_.jpg'],\n",
       " [19.72,\n",
       "  'Python: For Beginners: A Crash Course Guide To Learn Python in 1 Week',\n",
       "  'https://images-na.ssl-images-amazon.com/images/I/41XYO7E9vcL._AC_US218_.jpg'],\n",
       " [25.09,\n",
       "  'Introducing Python: Modern Computing in Simple Packages',\n",
       "  'https://images-na.ssl-images-amazon.com/images/I/51RI0fguiLL._AC_US218_.jpg'],\n",
       " [6.53,\n",
       "  \"Python Pocket Reference: Python In Your Pocket (Pocket Reference (O'Reilly))\",\n",
       "  'https://images-na.ssl-images-amazon.com/images/I/517k0XB9ogL._AC_US218_.jpg'],\n",
       " [42.89,\n",
       "  'Fluent Python: Clear, Concise, and Effective Programming',\n",
       "  'https://images-na.ssl-images-amazon.com/images/I/51cRqX8DTgL._AC_US218_.jpg'],\n",
       " [14.2,\n",
       "  'Effective Python: 59 Specific Ways to Write Better Python (Effective Software Development Series)',\n",
       "  'https://images-na.ssl-images-amazon.com/images/I/518KlDL92eL._AC_US218_.jpg'],\n",
       " [[53.16, 106.32],\n",
       "  'Starting Out with Python (4th Edition)',\n",
       "  'https://images-na.ssl-images-amazon.com/images/I/41QomZI0DSL._AC_US218_.jpg'],\n",
       " [[34.7, 0.0],\n",
       "  'Deep Learning with Python',\n",
       "  'https://images-na.ssl-images-amazon.com/images/I/41kxrQD7R+L._AC_US218_.jpg'],\n",
       " [44.99,\n",
       "  '[Sponsored]Artificial Intelligence with Python: A Comprehensive Guide to Building Intelligent Apps for Python Beginners and Developers',\n",
       "  'https://images-na.ssl-images-amazon.com/images/I/511dKcnBYfL._AC_US218_.jpg'],\n",
       " [29.99,\n",
       "  '[Sponsored]Python for Offensive PenTest: A practical guide to ethical hacking and penetration testing using Python',\n",
       "  'https://images-na.ssl-images-amazon.com/images/I/51V-4WJ7+YL._AC_US218_.jpg'],\n",
       " [None, None, None],\n",
       " [None, None, None],\n",
       " [None, None, None],\n",
       " [None, None, None],\n",
       " [None, None, None],\n",
       " [None, None, None],\n",
       " [None, None, None],\n",
       " [None, None, None],\n",
       " [None, None, None],\n",
       " [None, None, None],\n",
       " [None, None, None],\n",
       " [None, None, None],\n",
       " [None, None, None],\n",
       " [None, None, None],\n",
       " [None, None, None],\n",
       " [None, None, None],\n",
       " [None, None, None],\n",
       " [None, None, None],\n",
       " [None, None, None],\n",
       " [None, None, None],\n",
       " [None, None, None],\n",
       " [None, None, None],\n",
       " [None, None, None],\n",
       " [None, None, None],\n",
       " [None, None, None],\n",
       " [None, None, None],\n",
       " [None, None, None],\n",
       " [None, None, None],\n",
       " [None, None, None],\n",
       " [None, None, None],\n",
       " [None, None, None],\n",
       " [None, None, None],\n",
       " [None, None, None],\n",
       " [None, None, None],\n",
       " [None, None, None],\n",
       " [None, None, None],\n",
       " [None, None, None],\n",
       " [None, None, None],\n",
       " [None, None, None],\n",
       " [None, None, None],\n",
       " [None, None, None],\n",
       " [None, None, None],\n",
       " [None, None, None],\n",
       " [None, None, None],\n",
       " [None, None, None],\n",
       " [None, None, None],\n",
       " [None, None, None],\n",
       " [None, None, None],\n",
       " [None, None, None],\n",
       " [None, None, None],\n",
       " [None, None, None],\n",
       " [None, None, None],\n",
       " [None, None, None],\n",
       " [None, None, None],\n",
       " [None, None, None],\n",
       " [None, None, None],\n",
       " [None, None, None],\n",
       " [None, None, None],\n",
       " [None, None, None],\n",
       " [None, None, None],\n",
       " [None, None, None],\n",
       " [None, None, None],\n",
       " [None, None, None],\n",
       " [None, None, None],\n",
       " [None, None, None],\n",
       " [None, None, None],\n",
       " [None, None, None],\n",
       " [None, None, None],\n",
       " [None, None, None],\n",
       " [None, None, None],\n",
       " [None, None, None],\n",
       " [None, None, None],\n",
       " [None, None, None],\n",
       " [None, None, None],\n",
       " [None, None, None],\n",
       " [None, None, None],\n",
       " [None, None, None],\n",
       " [None, None, None],\n",
       " [None, None, None],\n",
       " [None, None, None],\n",
       " [None, None, None],\n",
       " [None, None, None],\n",
       " [None, None, None],\n",
       " [None, None, None],\n",
       " [None, None, None],\n",
       " [None, None, None],\n",
       " [None, None, None],\n",
       " [None, None, None],\n",
       " [None, None, None],\n",
       " [None, None, None],\n",
       " [None, None, None],\n",
       " [None, None, None],\n",
       " [None, None, None],\n",
       " [None, None, None],\n",
       " [None, None, None],\n",
       " [None, None, None],\n",
       " [None, None, None],\n",
       " [None, None, None],\n",
       " [None, None, None],\n",
       " [None, None, None],\n",
       " [None, None, None],\n",
       " [None, None, None],\n",
       " [None, None, None],\n",
       " [None, None, None],\n",
       " [None, None, None],\n",
       " [None, None, None],\n",
       " [None, None, None],\n",
       " [None, None, None],\n",
       " [None, None, None],\n",
       " [None, None, None],\n",
       " [None, None, None],\n",
       " [None, None, None],\n",
       " [None, None, None],\n",
       " [None, None, None],\n",
       " [None, None, None],\n",
       " [None, None, None],\n",
       " [None, None, None],\n",
       " [None, None, None],\n",
       " [None, None, None],\n",
       " [None, None, None],\n",
       " [None, None, None],\n",
       " [None, None, None],\n",
       " [None, None, None],\n",
       " [None, None, None],\n",
       " [None, None, None],\n",
       " [None, None, None],\n",
       " [None, None, None],\n",
       " [None, None, None],\n",
       " [None, None, None],\n",
       " [None, None, None],\n",
       " [None, None, None],\n",
       " [None, None, None],\n",
       " [None, None, None],\n",
       " [None, None, None],\n",
       " [None, None, None],\n",
       " [None, None, None],\n",
       " [None, None, None],\n",
       " [None, None, None]]"
      ]
     },
     "execution_count": 9,
     "metadata": {},
     "output_type": "execute_result"
    }
   ],
   "source": [
    "item_parse=Pipe(Zip(p_get_price,p_get_title,p_get_img_src))\n",
    "item_parse.run(lis)"
   ]
  },
  {
   "cell_type": "markdown",
   "metadata": {},
   "source": [
    "## Step3: Filter the None item\n",
    "\n",
    "We will use Filter operator to filter out the item with None price.\n"
   ]
  },
  {
   "cell_type": "code",
   "execution_count": 10,
   "metadata": {},
   "outputs": [
    {
     "name": "stderr",
     "output_type": "stream",
     "text": [
      "2018-09-14 14:59:22,622 root         INFO:pipe_4514472960 ready to exit\n"
     ]
    }
   ],
   "source": [
    "item_parse=Pipe(Zip(p_get_price,p_get_title,p_get_img_src)).Filter(lambda i : i[0])\n",
    "r=item_parse.run(lis)"
   ]
  },
  {
   "cell_type": "code",
   "execution_count": 11,
   "metadata": {},
   "outputs": [
    {
     "data": {
      "text/plain": [
       "[[44.99,\n",
       "  '[Sponsored]Matplotlib 2.x By Example: Multi-dimensional charts, graphs, and plots in Python',\n",
       "  'https://images-na.ssl-images-amazon.com/images/I/410gNSSY-+L._AC_US218_.jpg'],\n",
       " [34.99,\n",
       "  '[Sponsored]SciPy Recipes: A cookbook with over 110 proven recipes for performing mathematical and scientific computations',\n",
       "  'https://images-na.ssl-images-amazon.com/images/I/517etmpLAwL._AC_US218_.jpg'],\n",
       " [27.16,\n",
       "  'Python Crash Course: A Hands-On, Project-Based Introduction to Programming',\n",
       "  'https://images-na.ssl-images-amazon.com/images/I/51F48HFHq6L._AC_US218_.jpg'],\n",
       " [31.24,\n",
       "  'Learning Python, 5th Edition',\n",
       "  'https://images-na.ssl-images-amazon.com/images/I/515iBchIIzL._AC_US218_.jpg'],\n",
       " [41.45,\n",
       "  'Python for Data Analysis: Data Wrangling with Pandas, NumPy, and IPython',\n",
       "  'https://images-na.ssl-images-amazon.com/images/I/51lod1FJujL._AC_US218_.jpg'],\n",
       " [28.45,\n",
       "  'Automate the Boring Stuff with Python: Practical Programming for Total Beginners',\n",
       "  'https://images-na.ssl-images-amazon.com/images/I/517XL4pO6jL._AC_US218_.jpg'],\n",
       " [34.99,\n",
       "  '[Sponsored]Extending SaltStack',\n",
       "  'https://images-na.ssl-images-amazon.com/images/I/51XFUXE0K5L._AC_US218_.jpg'],\n",
       " [46.18,\n",
       "  '[Sponsored]Tkinter GUI Programming by Example: Learn to create modern GUIs using Tkinter by building real-world projects in Python',\n",
       "  'https://images-na.ssl-images-amazon.com/images/I/51ot3HNrhUL._AC_US218_.jpg'],\n",
       " [17.96,\n",
       "  'A Smarter Way to Learn Python: Learn it faster. Remember it longer.',\n",
       "  'https://images-na.ssl-images-amazon.com/images/I/41i1z4hAJAL._AC_US218_.jpg'],\n",
       " [19.72,\n",
       "  'Python: For Beginners: A Crash Course Guide To Learn Python in 1 Week',\n",
       "  'https://images-na.ssl-images-amazon.com/images/I/41XYO7E9vcL._AC_US218_.jpg'],\n",
       " [25.09,\n",
       "  'Introducing Python: Modern Computing in Simple Packages',\n",
       "  'https://images-na.ssl-images-amazon.com/images/I/51RI0fguiLL._AC_US218_.jpg'],\n",
       " [6.53,\n",
       "  \"Python Pocket Reference: Python In Your Pocket (Pocket Reference (O'Reilly))\",\n",
       "  'https://images-na.ssl-images-amazon.com/images/I/517k0XB9ogL._AC_US218_.jpg'],\n",
       " [42.89,\n",
       "  'Fluent Python: Clear, Concise, and Effective Programming',\n",
       "  'https://images-na.ssl-images-amazon.com/images/I/51cRqX8DTgL._AC_US218_.jpg'],\n",
       " [14.2,\n",
       "  'Effective Python: 59 Specific Ways to Write Better Python (Effective Software Development Series)',\n",
       "  'https://images-na.ssl-images-amazon.com/images/I/518KlDL92eL._AC_US218_.jpg'],\n",
       " [[53.16, 106.32],\n",
       "  'Starting Out with Python (4th Edition)',\n",
       "  'https://images-na.ssl-images-amazon.com/images/I/41QomZI0DSL._AC_US218_.jpg'],\n",
       " [[34.7, 0.0],\n",
       "  'Deep Learning with Python',\n",
       "  'https://images-na.ssl-images-amazon.com/images/I/41kxrQD7R+L._AC_US218_.jpg'],\n",
       " [44.99,\n",
       "  '[Sponsored]Artificial Intelligence with Python: A Comprehensive Guide to Building Intelligent Apps for Python Beginners and Developers',\n",
       "  'https://images-na.ssl-images-amazon.com/images/I/511dKcnBYfL._AC_US218_.jpg'],\n",
       " [29.99,\n",
       "  '[Sponsored]Python for Offensive PenTest: A practical guide to ethical hacking and penetration testing using Python',\n",
       "  'https://images-na.ssl-images-amazon.com/images/I/51V-4WJ7+YL._AC_US218_.jpg']]"
      ]
     },
     "execution_count": 11,
     "metadata": {},
     "output_type": "execute_result"
    }
   ],
   "source": [
    "r"
   ]
  },
  {
   "cell_type": "markdown",
   "metadata": {},
   "source": [
    "## Step4:  Draw hist with Pandas"
   ]
  },
  {
   "cell_type": "code",
   "execution_count": 12,
   "metadata": {},
   "outputs": [],
   "source": [
    "import pandas as pd\n",
    "headers=[\"price\",\"title\",\"image_src\"]\n",
    "df = pd.DataFrame(r, columns=headers)\n"
   ]
  },
  {
   "cell_type": "code",
   "execution_count": 13,
   "metadata": {},
   "outputs": [
    {
     "data": {
      "text/html": [
       "<div>\n",
       "<style scoped>\n",
       "    .dataframe tbody tr th:only-of-type {\n",
       "        vertical-align: middle;\n",
       "    }\n",
       "\n",
       "    .dataframe tbody tr th {\n",
       "        vertical-align: top;\n",
       "    }\n",
       "\n",
       "    .dataframe thead th {\n",
       "        text-align: right;\n",
       "    }\n",
       "</style>\n",
       "<table border=\"1\" class=\"dataframe\">\n",
       "  <thead>\n",
       "    <tr style=\"text-align: right;\">\n",
       "      <th></th>\n",
       "      <th>price</th>\n",
       "      <th>title</th>\n",
       "      <th>image_src</th>\n",
       "    </tr>\n",
       "  </thead>\n",
       "  <tbody>\n",
       "    <tr>\n",
       "      <th>0</th>\n",
       "      <td>44.99</td>\n",
       "      <td>[Sponsored]Matplotlib 2.x By Example: Multi-di...</td>\n",
       "      <td>https://images-na.ssl-images-amazon.com/images...</td>\n",
       "    </tr>\n",
       "    <tr>\n",
       "      <th>1</th>\n",
       "      <td>34.99</td>\n",
       "      <td>[Sponsored]SciPy Recipes: A cookbook with over...</td>\n",
       "      <td>https://images-na.ssl-images-amazon.com/images...</td>\n",
       "    </tr>\n",
       "    <tr>\n",
       "      <th>2</th>\n",
       "      <td>27.16</td>\n",
       "      <td>Python Crash Course: A Hands-On, Project-Based...</td>\n",
       "      <td>https://images-na.ssl-images-amazon.com/images...</td>\n",
       "    </tr>\n",
       "    <tr>\n",
       "      <th>3</th>\n",
       "      <td>31.24</td>\n",
       "      <td>Learning Python, 5th Edition</td>\n",
       "      <td>https://images-na.ssl-images-amazon.com/images...</td>\n",
       "    </tr>\n",
       "    <tr>\n",
       "      <th>4</th>\n",
       "      <td>41.45</td>\n",
       "      <td>Python for Data Analysis: Data Wrangling with ...</td>\n",
       "      <td>https://images-na.ssl-images-amazon.com/images...</td>\n",
       "    </tr>\n",
       "    <tr>\n",
       "      <th>5</th>\n",
       "      <td>28.45</td>\n",
       "      <td>Automate the Boring Stuff with Python: Practic...</td>\n",
       "      <td>https://images-na.ssl-images-amazon.com/images...</td>\n",
       "    </tr>\n",
       "    <tr>\n",
       "      <th>6</th>\n",
       "      <td>34.99</td>\n",
       "      <td>[Sponsored]Extending SaltStack</td>\n",
       "      <td>https://images-na.ssl-images-amazon.com/images...</td>\n",
       "    </tr>\n",
       "    <tr>\n",
       "      <th>7</th>\n",
       "      <td>46.18</td>\n",
       "      <td>[Sponsored]Tkinter GUI Programming by Example:...</td>\n",
       "      <td>https://images-na.ssl-images-amazon.com/images...</td>\n",
       "    </tr>\n",
       "    <tr>\n",
       "      <th>8</th>\n",
       "      <td>17.96</td>\n",
       "      <td>A Smarter Way to Learn Python: Learn it faster...</td>\n",
       "      <td>https://images-na.ssl-images-amazon.com/images...</td>\n",
       "    </tr>\n",
       "    <tr>\n",
       "      <th>9</th>\n",
       "      <td>19.72</td>\n",
       "      <td>Python: For Beginners: A Crash Course Guide To...</td>\n",
       "      <td>https://images-na.ssl-images-amazon.com/images...</td>\n",
       "    </tr>\n",
       "    <tr>\n",
       "      <th>10</th>\n",
       "      <td>25.09</td>\n",
       "      <td>Introducing Python: Modern Computing in Simple...</td>\n",
       "      <td>https://images-na.ssl-images-amazon.com/images...</td>\n",
       "    </tr>\n",
       "    <tr>\n",
       "      <th>11</th>\n",
       "      <td>6.53</td>\n",
       "      <td>Python Pocket Reference: Python In Your Pocket...</td>\n",
       "      <td>https://images-na.ssl-images-amazon.com/images...</td>\n",
       "    </tr>\n",
       "    <tr>\n",
       "      <th>12</th>\n",
       "      <td>42.89</td>\n",
       "      <td>Fluent Python: Clear, Concise, and Effective P...</td>\n",
       "      <td>https://images-na.ssl-images-amazon.com/images...</td>\n",
       "    </tr>\n",
       "    <tr>\n",
       "      <th>13</th>\n",
       "      <td>14.2</td>\n",
       "      <td>Effective Python: 59 Specific Ways to Write Be...</td>\n",
       "      <td>https://images-na.ssl-images-amazon.com/images...</td>\n",
       "    </tr>\n",
       "    <tr>\n",
       "      <th>14</th>\n",
       "      <td>[53.16, 106.32]</td>\n",
       "      <td>Starting Out with Python (4th Edition)</td>\n",
       "      <td>https://images-na.ssl-images-amazon.com/images...</td>\n",
       "    </tr>\n",
       "    <tr>\n",
       "      <th>15</th>\n",
       "      <td>[34.7, 0.0]</td>\n",
       "      <td>Deep Learning with Python</td>\n",
       "      <td>https://images-na.ssl-images-amazon.com/images...</td>\n",
       "    </tr>\n",
       "    <tr>\n",
       "      <th>16</th>\n",
       "      <td>44.99</td>\n",
       "      <td>[Sponsored]Artificial Intelligence with Python...</td>\n",
       "      <td>https://images-na.ssl-images-amazon.com/images...</td>\n",
       "    </tr>\n",
       "    <tr>\n",
       "      <th>17</th>\n",
       "      <td>29.99</td>\n",
       "      <td>[Sponsored]Python for Offensive PenTest: A pra...</td>\n",
       "      <td>https://images-na.ssl-images-amazon.com/images...</td>\n",
       "    </tr>\n",
       "  </tbody>\n",
       "</table>\n",
       "</div>"
      ],
      "text/plain": [
       "              price                                              title  \\\n",
       "0             44.99  [Sponsored]Matplotlib 2.x By Example: Multi-di...   \n",
       "1             34.99  [Sponsored]SciPy Recipes: A cookbook with over...   \n",
       "2             27.16  Python Crash Course: A Hands-On, Project-Based...   \n",
       "3             31.24                       Learning Python, 5th Edition   \n",
       "4             41.45  Python for Data Analysis: Data Wrangling with ...   \n",
       "5             28.45  Automate the Boring Stuff with Python: Practic...   \n",
       "6             34.99                     [Sponsored]Extending SaltStack   \n",
       "7             46.18  [Sponsored]Tkinter GUI Programming by Example:...   \n",
       "8             17.96  A Smarter Way to Learn Python: Learn it faster...   \n",
       "9             19.72  Python: For Beginners: A Crash Course Guide To...   \n",
       "10            25.09  Introducing Python: Modern Computing in Simple...   \n",
       "11             6.53  Python Pocket Reference: Python In Your Pocket...   \n",
       "12            42.89  Fluent Python: Clear, Concise, and Effective P...   \n",
       "13             14.2  Effective Python: 59 Specific Ways to Write Be...   \n",
       "14  [53.16, 106.32]             Starting Out with Python (4th Edition)   \n",
       "15      [34.7, 0.0]                          Deep Learning with Python   \n",
       "16            44.99  [Sponsored]Artificial Intelligence with Python...   \n",
       "17            29.99  [Sponsored]Python for Offensive PenTest: A pra...   \n",
       "\n",
       "                                            image_src  \n",
       "0   https://images-na.ssl-images-amazon.com/images...  \n",
       "1   https://images-na.ssl-images-amazon.com/images...  \n",
       "2   https://images-na.ssl-images-amazon.com/images...  \n",
       "3   https://images-na.ssl-images-amazon.com/images...  \n",
       "4   https://images-na.ssl-images-amazon.com/images...  \n",
       "5   https://images-na.ssl-images-amazon.com/images...  \n",
       "6   https://images-na.ssl-images-amazon.com/images...  \n",
       "7   https://images-na.ssl-images-amazon.com/images...  \n",
       "8   https://images-na.ssl-images-amazon.com/images...  \n",
       "9   https://images-na.ssl-images-amazon.com/images...  \n",
       "10  https://images-na.ssl-images-amazon.com/images...  \n",
       "11  https://images-na.ssl-images-amazon.com/images...  \n",
       "12  https://images-na.ssl-images-amazon.com/images...  \n",
       "13  https://images-na.ssl-images-amazon.com/images...  \n",
       "14  https://images-na.ssl-images-amazon.com/images...  \n",
       "15  https://images-na.ssl-images-amazon.com/images...  \n",
       "16  https://images-na.ssl-images-amazon.com/images...  \n",
       "17  https://images-na.ssl-images-amazon.com/images...  "
      ]
     },
     "execution_count": 13,
     "metadata": {},
     "output_type": "execute_result"
    }
   ],
   "source": [
    "df"
   ]
  },
  {
   "cell_type": "markdown",
   "metadata": {},
   "source": [
    "There is some bad item with mulit prices .I just drop it out .You can do more complex convert with pandas."
   ]
  },
  {
   "cell_type": "code",
   "execution_count": 14,
   "metadata": {},
   "outputs": [],
   "source": [
    "price=pd.to_numeric(df['price'], errors='coerce')"
   ]
  },
  {
   "cell_type": "code",
   "execution_count": 16,
   "metadata": {},
   "outputs": [
    {
     "data": {
      "text/plain": [
       "<matplotlib.axes._subplots.AxesSubplot at 0x11c953710>"
      ]
     },
     "execution_count": 16,
     "metadata": {},
     "output_type": "execute_result"
    },
    {
     "data": {
      "image/png": "[encoded data removed]",
      "text/plain": [
       "<Figure size 432x288 with 1 Axes>"
      ]
     },
     "metadata": {
      "needs_background": "light"
     },
     "output_type": "display_data"
    }
   ],
   "source": [
    "price.hist()"
   ]
  },
  {
   "cell_type": "markdown",
   "metadata": {},
   "source": [
    "## Run with more data:\n",
    "\n",
    "### Get more item by set range of page no. \n",
    "``` python\n",
    "\n",
    "lis=p_download.run(range(1,10)\n",
    "\n",
    "```\n",
    "\n",
    "### Change search keywords.\n",
    "it is unable to create nest loop in pipes. we generate all  combination with prodcut function.\n",
    "\n",
    "\n",
    "``` python \n",
    "from  itertools import product\n",
    "\n",
    "lis=p_download.run(product(range(1,10),['Python','Java','C++'])\n",
    "\n",
    "                 ```\n",
    "\n",
    "\n",
    "\n",
    "\n"
   ]
  },
  {
   "cell_type": "code",
   "execution_count": null,
   "metadata": {},
   "outputs": [],
   "source": []
  }
 ],
 "metadata": {
  "kernelspec": {
   "display_name": "Python 3",
   "language": "python",
   "name": "python3"
  },
  "language_info": {
   "codemirror_mode": {
    "name": "ipython",
    "version": 3
   },
   "file_extension": ".py",
   "mimetype": "text/x-python",
   "name": "python",
   "nbconvert_exporter": "python",
   "pygments_lexer": "ipython3",
   "version": "3.6.5"
  }
 },
 "nbformat": 4,
 "nbformat_minor": 2
}
